{
 "cells": [
  {
   "cell_type": "code",
   "execution_count": 31,
   "id": "02c19c26-89ed-4e0d-a3cd-a5dfcdc82e31",
   "metadata": {},
   "outputs": [],
   "source": [
    "import numpy as np\n",
    "import pandas as pd\n",
    "from sklearn.model_selection import train_test_split\n",
    "from sklearn.linear_model import LogisticRegression\n",
    "from sklearn.metrics import accuracy_score, classification_report, confusion_matrix, roc_curve, roc_auc_score\n",
    "from sklearn.metrics import confusion_matrix, multilabel_confusion_matrix\n",
    "import matplotlib.pyplot as plt\n",
    "import seaborn as sns\n",
    "from scipy import stats\n",
    "from scipy.stats import boxcox\n",
    "import warnings\n",
    "warnings.filterwarnings('ignore')"
   ]
  },
  {
   "cell_type": "code",
   "execution_count": 32,
   "id": "f474d868-de72-480f-be5e-fc1e21dcdc9e",
   "metadata": {},
   "outputs": [],
   "source": [
    "##"
   ]
  },
  {
   "cell_type": "markdown",
   "id": "aafae3c5-f8f1-4eb5-8bae-622053f295ab",
   "metadata": {},
   "source": [
    "## Data Gathering"
   ]
  },
  {
   "cell_type": "code",
   "execution_count": 33,
   "id": "5d6af1a3-d203-40d8-8252-20291efaf5aa",
   "metadata": {},
   "outputs": [
    {
     "data": {
      "text/html": [
       "<div>\n",
       "<style scoped>\n",
       "    .dataframe tbody tr th:only-of-type {\n",
       "        vertical-align: middle;\n",
       "    }\n",
       "\n",
       "    .dataframe tbody tr th {\n",
       "        vertical-align: top;\n",
       "    }\n",
       "\n",
       "    .dataframe thead th {\n",
       "        text-align: right;\n",
       "    }\n",
       "</style>\n",
       "<table border=\"1\" class=\"dataframe\">\n",
       "  <thead>\n",
       "    <tr style=\"text-align: right;\">\n",
       "      <th></th>\n",
       "      <th>Age</th>\n",
       "      <th>Sex</th>\n",
       "      <th>BP</th>\n",
       "      <th>Cholesterol</th>\n",
       "      <th>Na_to_K</th>\n",
       "      <th>Drug</th>\n",
       "    </tr>\n",
       "  </thead>\n",
       "  <tbody>\n",
       "    <tr>\n",
       "      <th>0</th>\n",
       "      <td>23</td>\n",
       "      <td>F</td>\n",
       "      <td>HIGH</td>\n",
       "      <td>HIGH</td>\n",
       "      <td>25.355</td>\n",
       "      <td>DrugY</td>\n",
       "    </tr>\n",
       "    <tr>\n",
       "      <th>1</th>\n",
       "      <td>47</td>\n",
       "      <td>M</td>\n",
       "      <td>LOW</td>\n",
       "      <td>HIGH</td>\n",
       "      <td>13.093</td>\n",
       "      <td>drugC</td>\n",
       "    </tr>\n",
       "    <tr>\n",
       "      <th>2</th>\n",
       "      <td>47</td>\n",
       "      <td>M</td>\n",
       "      <td>LOW</td>\n",
       "      <td>HIGH</td>\n",
       "      <td>10.114</td>\n",
       "      <td>drugC</td>\n",
       "    </tr>\n",
       "    <tr>\n",
       "      <th>3</th>\n",
       "      <td>28</td>\n",
       "      <td>F</td>\n",
       "      <td>NORMAL</td>\n",
       "      <td>HIGH</td>\n",
       "      <td>7.798</td>\n",
       "      <td>drugX</td>\n",
       "    </tr>\n",
       "    <tr>\n",
       "      <th>4</th>\n",
       "      <td>61</td>\n",
       "      <td>F</td>\n",
       "      <td>LOW</td>\n",
       "      <td>HIGH</td>\n",
       "      <td>18.043</td>\n",
       "      <td>DrugY</td>\n",
       "    </tr>\n",
       "    <tr>\n",
       "      <th>...</th>\n",
       "      <td>...</td>\n",
       "      <td>...</td>\n",
       "      <td>...</td>\n",
       "      <td>...</td>\n",
       "      <td>...</td>\n",
       "      <td>...</td>\n",
       "    </tr>\n",
       "    <tr>\n",
       "      <th>195</th>\n",
       "      <td>56</td>\n",
       "      <td>F</td>\n",
       "      <td>LOW</td>\n",
       "      <td>HIGH</td>\n",
       "      <td>11.567</td>\n",
       "      <td>drugC</td>\n",
       "    </tr>\n",
       "    <tr>\n",
       "      <th>196</th>\n",
       "      <td>16</td>\n",
       "      <td>M</td>\n",
       "      <td>LOW</td>\n",
       "      <td>HIGH</td>\n",
       "      <td>12.006</td>\n",
       "      <td>drugC</td>\n",
       "    </tr>\n",
       "    <tr>\n",
       "      <th>197</th>\n",
       "      <td>52</td>\n",
       "      <td>M</td>\n",
       "      <td>NORMAL</td>\n",
       "      <td>HIGH</td>\n",
       "      <td>9.894</td>\n",
       "      <td>drugX</td>\n",
       "    </tr>\n",
       "    <tr>\n",
       "      <th>198</th>\n",
       "      <td>23</td>\n",
       "      <td>M</td>\n",
       "      <td>NORMAL</td>\n",
       "      <td>NORMAL</td>\n",
       "      <td>14.020</td>\n",
       "      <td>drugX</td>\n",
       "    </tr>\n",
       "    <tr>\n",
       "      <th>199</th>\n",
       "      <td>40</td>\n",
       "      <td>F</td>\n",
       "      <td>LOW</td>\n",
       "      <td>NORMAL</td>\n",
       "      <td>11.349</td>\n",
       "      <td>drugX</td>\n",
       "    </tr>\n",
       "  </tbody>\n",
       "</table>\n",
       "<p>200 rows × 6 columns</p>\n",
       "</div>"
      ],
      "text/plain": [
       "     Age Sex      BP Cholesterol  Na_to_K   Drug\n",
       "0     23   F    HIGH        HIGH   25.355  DrugY\n",
       "1     47   M     LOW        HIGH   13.093  drugC\n",
       "2     47   M     LOW        HIGH   10.114  drugC\n",
       "3     28   F  NORMAL        HIGH    7.798  drugX\n",
       "4     61   F     LOW        HIGH   18.043  DrugY\n",
       "..   ...  ..     ...         ...      ...    ...\n",
       "195   56   F     LOW        HIGH   11.567  drugC\n",
       "196   16   M     LOW        HIGH   12.006  drugC\n",
       "197   52   M  NORMAL        HIGH    9.894  drugX\n",
       "198   23   M  NORMAL      NORMAL   14.020  drugX\n",
       "199   40   F     LOW      NORMAL   11.349  drugX\n",
       "\n",
       "[200 rows x 6 columns]"
      ]
     },
     "execution_count": 33,
     "metadata": {},
     "output_type": "execute_result"
    }
   ],
   "source": [
    "df = pd.read_csv('drug200.csv')\n",
    "df"
   ]
  },
  {
   "cell_type": "code",
   "execution_count": 34,
   "id": "78cf15e1-b1c3-4d9c-99de-7591d93081a6",
   "metadata": {},
   "outputs": [
    {
     "name": "stdout",
     "output_type": "stream",
     "text": [
      "<class 'pandas.core.frame.DataFrame'>\n",
      "RangeIndex: 200 entries, 0 to 199\n",
      "Data columns (total 6 columns):\n",
      " #   Column       Non-Null Count  Dtype  \n",
      "---  ------       --------------  -----  \n",
      " 0   Age          200 non-null    int64  \n",
      " 1   Sex          200 non-null    object \n",
      " 2   BP           200 non-null    object \n",
      " 3   Cholesterol  200 non-null    object \n",
      " 4   Na_to_K      200 non-null    float64\n",
      " 5   Drug         200 non-null    object \n",
      "dtypes: float64(1), int64(1), object(4)\n",
      "memory usage: 9.5+ KB\n"
     ]
    }
   ],
   "source": [
    "df.info()"
   ]
  },
  {
   "cell_type": "code",
   "execution_count": null,
   "id": "98d547b4-9190-46b7-bf85-f3610da5c4a8",
   "metadata": {},
   "outputs": [],
   "source": []
  },
  {
   "cell_type": "code",
   "execution_count": 35,
   "id": "290abfd1-630f-464a-966f-31da84318dee",
   "metadata": {},
   "outputs": [
    {
     "data": {
      "text/plain": [
       "Sex\n",
       "M    104\n",
       "F     96\n",
       "Name: count, dtype: int64"
      ]
     },
     "execution_count": 35,
     "metadata": {},
     "output_type": "execute_result"
    }
   ],
   "source": [
    "df['Sex'].value_counts()"
   ]
  },
  {
   "cell_type": "code",
   "execution_count": 36,
   "id": "d8c3d79c-7c48-4038-9d04-71e99557dfda",
   "metadata": {},
   "outputs": [],
   "source": [
    "df['Sex'].replace({'M':1, 'F':0}, inplace = True)"
   ]
  },
  {
   "cell_type": "code",
   "execution_count": 37,
   "id": "d0eb6b78-88be-4f65-9921-26102a3fc13d",
   "metadata": {},
   "outputs": [
    {
     "data": {
      "text/plain": [
       "BP\n",
       "HIGH      77\n",
       "LOW       64\n",
       "NORMAL    59\n",
       "Name: count, dtype: int64"
      ]
     },
     "execution_count": 37,
     "metadata": {},
     "output_type": "execute_result"
    }
   ],
   "source": [
    "df['BP'].value_counts()"
   ]
  },
  {
   "cell_type": "code",
   "execution_count": 38,
   "id": "09d12fa6-08a5-4421-967e-c3b9d08e8726",
   "metadata": {},
   "outputs": [],
   "source": [
    "df['BP'].replace({'HIGH':2, 'LOW':1, 'NORMAL':0}, inplace = True)"
   ]
  },
  {
   "cell_type": "code",
   "execution_count": 39,
   "id": "5cfe04db-71a2-4c46-9187-61b6ffb4693e",
   "metadata": {},
   "outputs": [
    {
     "data": {
      "text/plain": [
       "Cholesterol\n",
       "HIGH      103\n",
       "NORMAL     97\n",
       "Name: count, dtype: int64"
      ]
     },
     "execution_count": 39,
     "metadata": {},
     "output_type": "execute_result"
    }
   ],
   "source": [
    "df['Cholesterol'].value_counts()"
   ]
  },
  {
   "cell_type": "code",
   "execution_count": 40,
   "id": "cc1897a8-b91e-437b-9e79-531c56c3dd28",
   "metadata": {},
   "outputs": [],
   "source": [
    "df['Cholesterol'].replace({'HIGH':1, 'NORMAL':0}, inplace = True)"
   ]
  },
  {
   "cell_type": "code",
   "execution_count": 41,
   "id": "ae821984-e358-43ce-9cb9-a4b9ff2f7f50",
   "metadata": {},
   "outputs": [
    {
     "data": {
      "text/plain": [
       "Drug\n",
       "DrugY    91\n",
       "drugX    54\n",
       "drugA    23\n",
       "drugC    16\n",
       "drugB    16\n",
       "Name: count, dtype: int64"
      ]
     },
     "execution_count": 41,
     "metadata": {},
     "output_type": "execute_result"
    }
   ],
   "source": [
    "df['Drug'].value_counts()"
   ]
  },
  {
   "cell_type": "code",
   "execution_count": 42,
   "id": "bd7c0c08-5e25-4a3f-8ac0-1dd91f99793f",
   "metadata": {},
   "outputs": [],
   "source": [
    "#df = pd.get_dummies(df['Drug'], dtype=int)\n"
   ]
  },
  {
   "cell_type": "code",
   "execution_count": 43,
   "id": "782c7404-1ae7-4c42-8f82-49a7bb830153",
   "metadata": {},
   "outputs": [],
   "source": [
    "#df['Drug'].replace({'DrugY':5, 'drugX':4, 'drugA':1,'drugC':3, 'drugB':2}, inplace = True)"
   ]
  },
  {
   "cell_type": "code",
   "execution_count": 44,
   "id": "df0128eb-efcb-4b19-a8ae-bb4ea777c273",
   "metadata": {},
   "outputs": [
    {
     "data": {
      "text/html": [
       "<div>\n",
       "<style scoped>\n",
       "    .dataframe tbody tr th:only-of-type {\n",
       "        vertical-align: middle;\n",
       "    }\n",
       "\n",
       "    .dataframe tbody tr th {\n",
       "        vertical-align: top;\n",
       "    }\n",
       "\n",
       "    .dataframe thead th {\n",
       "        text-align: right;\n",
       "    }\n",
       "</style>\n",
       "<table border=\"1\" class=\"dataframe\">\n",
       "  <thead>\n",
       "    <tr style=\"text-align: right;\">\n",
       "      <th></th>\n",
       "      <th>Age</th>\n",
       "      <th>Sex</th>\n",
       "      <th>BP</th>\n",
       "      <th>Cholesterol</th>\n",
       "      <th>Na_to_K</th>\n",
       "      <th>Drug</th>\n",
       "    </tr>\n",
       "  </thead>\n",
       "  <tbody>\n",
       "    <tr>\n",
       "      <th>0</th>\n",
       "      <td>23</td>\n",
       "      <td>0</td>\n",
       "      <td>2</td>\n",
       "      <td>1</td>\n",
       "      <td>25.355</td>\n",
       "      <td>DrugY</td>\n",
       "    </tr>\n",
       "    <tr>\n",
       "      <th>1</th>\n",
       "      <td>47</td>\n",
       "      <td>1</td>\n",
       "      <td>1</td>\n",
       "      <td>1</td>\n",
       "      <td>13.093</td>\n",
       "      <td>drugC</td>\n",
       "    </tr>\n",
       "    <tr>\n",
       "      <th>2</th>\n",
       "      <td>47</td>\n",
       "      <td>1</td>\n",
       "      <td>1</td>\n",
       "      <td>1</td>\n",
       "      <td>10.114</td>\n",
       "      <td>drugC</td>\n",
       "    </tr>\n",
       "    <tr>\n",
       "      <th>3</th>\n",
       "      <td>28</td>\n",
       "      <td>0</td>\n",
       "      <td>0</td>\n",
       "      <td>1</td>\n",
       "      <td>7.798</td>\n",
       "      <td>drugX</td>\n",
       "    </tr>\n",
       "    <tr>\n",
       "      <th>4</th>\n",
       "      <td>61</td>\n",
       "      <td>0</td>\n",
       "      <td>1</td>\n",
       "      <td>1</td>\n",
       "      <td>18.043</td>\n",
       "      <td>DrugY</td>\n",
       "    </tr>\n",
       "    <tr>\n",
       "      <th>...</th>\n",
       "      <td>...</td>\n",
       "      <td>...</td>\n",
       "      <td>...</td>\n",
       "      <td>...</td>\n",
       "      <td>...</td>\n",
       "      <td>...</td>\n",
       "    </tr>\n",
       "    <tr>\n",
       "      <th>195</th>\n",
       "      <td>56</td>\n",
       "      <td>0</td>\n",
       "      <td>1</td>\n",
       "      <td>1</td>\n",
       "      <td>11.567</td>\n",
       "      <td>drugC</td>\n",
       "    </tr>\n",
       "    <tr>\n",
       "      <th>196</th>\n",
       "      <td>16</td>\n",
       "      <td>1</td>\n",
       "      <td>1</td>\n",
       "      <td>1</td>\n",
       "      <td>12.006</td>\n",
       "      <td>drugC</td>\n",
       "    </tr>\n",
       "    <tr>\n",
       "      <th>197</th>\n",
       "      <td>52</td>\n",
       "      <td>1</td>\n",
       "      <td>0</td>\n",
       "      <td>1</td>\n",
       "      <td>9.894</td>\n",
       "      <td>drugX</td>\n",
       "    </tr>\n",
       "    <tr>\n",
       "      <th>198</th>\n",
       "      <td>23</td>\n",
       "      <td>1</td>\n",
       "      <td>0</td>\n",
       "      <td>0</td>\n",
       "      <td>14.020</td>\n",
       "      <td>drugX</td>\n",
       "    </tr>\n",
       "    <tr>\n",
       "      <th>199</th>\n",
       "      <td>40</td>\n",
       "      <td>0</td>\n",
       "      <td>1</td>\n",
       "      <td>0</td>\n",
       "      <td>11.349</td>\n",
       "      <td>drugX</td>\n",
       "    </tr>\n",
       "  </tbody>\n",
       "</table>\n",
       "<p>200 rows × 6 columns</p>\n",
       "</div>"
      ],
      "text/plain": [
       "     Age  Sex  BP  Cholesterol  Na_to_K   Drug\n",
       "0     23    0   2            1   25.355  DrugY\n",
       "1     47    1   1            1   13.093  drugC\n",
       "2     47    1   1            1   10.114  drugC\n",
       "3     28    0   0            1    7.798  drugX\n",
       "4     61    0   1            1   18.043  DrugY\n",
       "..   ...  ...  ..          ...      ...    ...\n",
       "195   56    0   1            1   11.567  drugC\n",
       "196   16    1   1            1   12.006  drugC\n",
       "197   52    1   0            1    9.894  drugX\n",
       "198   23    1   0            0   14.020  drugX\n",
       "199   40    0   1            0   11.349  drugX\n",
       "\n",
       "[200 rows x 6 columns]"
      ]
     },
     "execution_count": 44,
     "metadata": {},
     "output_type": "execute_result"
    }
   ],
   "source": [
    "df"
   ]
  },
  {
   "cell_type": "markdown",
   "id": "c33311d3-4725-48c0-af67-904e2bf3409f",
   "metadata": {},
   "source": [
    "## Feature Engineering"
   ]
  },
  {
   "cell_type": "code",
   "execution_count": 45,
   "id": "5251401c-b74e-4de0-97bd-7f2ad62700cb",
   "metadata": {},
   "outputs": [
    {
     "data": {
      "text/plain": [
       "<Axes: >"
      ]
     },
     "execution_count": 45,
     "metadata": {},
     "output_type": "execute_result"
    },
    {
     "data": {
      "image/png": "[encoded data removed]",
      "text/plain": [
       "<Figure size 640x480 with 1 Axes>"
      ]
     },
     "metadata": {},
     "output_type": "display_data"
    }
   ],
   "source": [
    "sns.boxplot(df)"
   ]
  },
  {
   "cell_type": "code",
   "execution_count": 46,
   "id": "f9b13f17-b0b6-4386-9696-24fe2bccb3e7",
   "metadata": {},
   "outputs": [
    {
     "data": {
      "text/plain": [
       "array([1.92852561, 1.69061513, 1.58153756, 1.46114097, 1.81298153,\n",
       "       1.50814512, 1.77512928, 1.61955487, 1.74854669, 1.83820491,\n",
       "       1.64669991, 1.83511952, 1.75367706, 1.86529473, 1.67834587,\n",
       "       1.75712786, 1.63538487, 1.71654022, 1.42865435, 1.93620274,\n",
       "       1.83381231, 1.93550619, 1.9863634 , 1.74511665, 2.0132121 ,\n",
       "       1.82785702, 1.98437707, 1.54783449, 1.89242663, 1.81113748,\n",
       "       1.51583355, 1.55671617, 1.61866036, 1.99880924, 1.72105014,\n",
       "       1.42776977, 1.55091724, 1.71557882, 1.56334104, 1.53314706,\n",
       "       1.83552324, 1.72398164, 1.76376123, 1.66377577, 1.66495266,\n",
       "       1.47984164, 1.69055348, 1.58918343, 1.99704464, 1.84585851,\n",
       "       1.8390746 , 1.61411008, 1.95050687, 1.82112504, 1.58479927,\n",
       "       1.72179966, 1.63110858, 1.95776856, 1.58053074, 1.82584783,\n",
       "       1.97947349, 1.55235256, 1.86119593, 1.49501453, 1.69701877,\n",
       "       1.9489758 , 1.68321917, 1.61149177, 1.91957172, 1.91451783,\n",
       "       1.71639903, 1.84371762, 1.60231898, 1.89545387, 1.79278413,\n",
       "       1.86475531, 1.62574664, 1.8344207 , 1.69732029, 1.61181029,\n",
       "       1.7154655 , 1.45883456, 1.56347959, 1.63058398, 1.57947683,\n",
       "       1.71549383, 1.70575765, 1.75619539, 1.8981296 , 1.7958246 ,\n",
       "       1.78235956, 1.74816761, 1.97514019, 1.9732897 , 1.74457934,\n",
       "       1.63423787, 2.05084385, 1.92902934, 2.03107142, 1.78527449,\n",
       "       1.65038176, 1.68315598, 1.69166131, 1.5271301 , 1.96291267,\n",
       "       1.52723297, 1.65325413, 1.84965397, 1.5618596 , 1.78802726,\n",
       "       1.44147566, 1.38430546, 1.53746608, 1.71075256, 1.54296031,\n",
       "       1.81796815, 1.55420932, 1.58105643, 1.58922612, 1.9300336 ,\n",
       "       1.94913744, 1.79571811, 1.88887181, 1.78589352, 1.67159188,\n",
       "       1.93614173, 1.77677785, 1.46404948, 2.01369614, 1.44062164,\n",
       "       1.85778783, 2.00827523, 1.70578694, 1.93389747, 1.86682496,\n",
       "       1.65276561, 1.61721604, 1.68441739, 1.63122088, 1.57938885,\n",
       "       1.35121432, 1.9333423 , 1.50890544, 1.75516116, 1.56125587,\n",
       "       1.55082133, 1.65509651, 1.66535512, 1.43149772, 1.4824261 ,\n",
       "       1.51316473, 1.61846556, 1.42613107, 1.73486302, 1.78525235,\n",
       "       1.59951935, 1.62684913, 1.89629138, 1.59565061, 1.6853286 ,\n",
       "       1.59560876, 1.57406642, 1.68331394, 1.96655681, 1.83156933,\n",
       "       1.81796815, 1.94425008, 1.72334807, 1.89686731, 1.62817461,\n",
       "       1.68394498, 1.57727023, 1.79612252, 1.82653192, 1.68036209,\n",
       "       1.81900511, 1.5957343 , 1.83164379, 1.7680112 , 1.76616722,\n",
       "       1.89419221, 1.71404534, 1.64380168, 1.75649019, 2.04304165,\n",
       "       1.93521229, 1.56974552, 1.5939302 , 2.02590193, 1.86513139,\n",
       "       1.83127129, 1.47413638, 1.7759319 , 1.39083271, 2.02335135,\n",
       "       1.63949414, 1.65509651, 1.57177801, 1.71789212, 1.63144536])"
      ]
     },
     "execution_count": 46,
     "metadata": {},
     "output_type": "execute_result"
    }
   ],
   "source": [
    "array1 = boxcox (df['Na_to_K'])[0]\n",
    "array1"
   ]
  },
  {
   "cell_type": "code",
   "execution_count": 47,
   "id": "e77f7f0d-23cd-47af-948f-14a180f59e16",
   "metadata": {},
   "outputs": [
    {
     "data": {
      "text/html": [
       "<div>\n",
       "<style scoped>\n",
       "    .dataframe tbody tr th:only-of-type {\n",
       "        vertical-align: middle;\n",
       "    }\n",
       "\n",
       "    .dataframe tbody tr th {\n",
       "        vertical-align: top;\n",
       "    }\n",
       "\n",
       "    .dataframe thead th {\n",
       "        text-align: right;\n",
       "    }\n",
       "</style>\n",
       "<table border=\"1\" class=\"dataframe\">\n",
       "  <thead>\n",
       "    <tr style=\"text-align: right;\">\n",
       "      <th></th>\n",
       "      <th>Age</th>\n",
       "      <th>Sex</th>\n",
       "      <th>BP</th>\n",
       "      <th>Cholesterol</th>\n",
       "      <th>Na_to_K</th>\n",
       "      <th>Drug</th>\n",
       "    </tr>\n",
       "  </thead>\n",
       "  <tbody>\n",
       "    <tr>\n",
       "      <th>0</th>\n",
       "      <td>23</td>\n",
       "      <td>0</td>\n",
       "      <td>2</td>\n",
       "      <td>1</td>\n",
       "      <td>1.928526</td>\n",
       "      <td>DrugY</td>\n",
       "    </tr>\n",
       "    <tr>\n",
       "      <th>1</th>\n",
       "      <td>47</td>\n",
       "      <td>1</td>\n",
       "      <td>1</td>\n",
       "      <td>1</td>\n",
       "      <td>1.690615</td>\n",
       "      <td>drugC</td>\n",
       "    </tr>\n",
       "    <tr>\n",
       "      <th>2</th>\n",
       "      <td>47</td>\n",
       "      <td>1</td>\n",
       "      <td>1</td>\n",
       "      <td>1</td>\n",
       "      <td>1.581538</td>\n",
       "      <td>drugC</td>\n",
       "    </tr>\n",
       "    <tr>\n",
       "      <th>3</th>\n",
       "      <td>28</td>\n",
       "      <td>0</td>\n",
       "      <td>0</td>\n",
       "      <td>1</td>\n",
       "      <td>1.461141</td>\n",
       "      <td>drugX</td>\n",
       "    </tr>\n",
       "    <tr>\n",
       "      <th>4</th>\n",
       "      <td>61</td>\n",
       "      <td>0</td>\n",
       "      <td>1</td>\n",
       "      <td>1</td>\n",
       "      <td>1.812982</td>\n",
       "      <td>DrugY</td>\n",
       "    </tr>\n",
       "    <tr>\n",
       "      <th>...</th>\n",
       "      <td>...</td>\n",
       "      <td>...</td>\n",
       "      <td>...</td>\n",
       "      <td>...</td>\n",
       "      <td>...</td>\n",
       "      <td>...</td>\n",
       "    </tr>\n",
       "    <tr>\n",
       "      <th>195</th>\n",
       "      <td>56</td>\n",
       "      <td>0</td>\n",
       "      <td>1</td>\n",
       "      <td>1</td>\n",
       "      <td>1.639494</td>\n",
       "      <td>drugC</td>\n",
       "    </tr>\n",
       "    <tr>\n",
       "      <th>196</th>\n",
       "      <td>16</td>\n",
       "      <td>1</td>\n",
       "      <td>1</td>\n",
       "      <td>1</td>\n",
       "      <td>1.655097</td>\n",
       "      <td>drugC</td>\n",
       "    </tr>\n",
       "    <tr>\n",
       "      <th>197</th>\n",
       "      <td>52</td>\n",
       "      <td>1</td>\n",
       "      <td>0</td>\n",
       "      <td>1</td>\n",
       "      <td>1.571778</td>\n",
       "      <td>drugX</td>\n",
       "    </tr>\n",
       "    <tr>\n",
       "      <th>198</th>\n",
       "      <td>23</td>\n",
       "      <td>1</td>\n",
       "      <td>0</td>\n",
       "      <td>0</td>\n",
       "      <td>1.717892</td>\n",
       "      <td>drugX</td>\n",
       "    </tr>\n",
       "    <tr>\n",
       "      <th>199</th>\n",
       "      <td>40</td>\n",
       "      <td>0</td>\n",
       "      <td>1</td>\n",
       "      <td>0</td>\n",
       "      <td>1.631445</td>\n",
       "      <td>drugX</td>\n",
       "    </tr>\n",
       "  </tbody>\n",
       "</table>\n",
       "<p>200 rows × 6 columns</p>\n",
       "</div>"
      ],
      "text/plain": [
       "     Age  Sex  BP  Cholesterol   Na_to_K   Drug\n",
       "0     23    0   2            1  1.928526  DrugY\n",
       "1     47    1   1            1  1.690615  drugC\n",
       "2     47    1   1            1  1.581538  drugC\n",
       "3     28    0   0            1  1.461141  drugX\n",
       "4     61    0   1            1  1.812982  DrugY\n",
       "..   ...  ...  ..          ...       ...    ...\n",
       "195   56    0   1            1  1.639494  drugC\n",
       "196   16    1   1            1  1.655097  drugC\n",
       "197   52    1   0            1  1.571778  drugX\n",
       "198   23    1   0            0  1.717892  drugX\n",
       "199   40    0   1            0  1.631445  drugX\n",
       "\n",
       "[200 rows x 6 columns]"
      ]
     },
     "execution_count": 47,
     "metadata": {},
     "output_type": "execute_result"
    }
   ],
   "source": [
    "df['Na_to_K']= array1\n",
    "df"
   ]
  },
  {
   "cell_type": "code",
   "execution_count": 48,
   "id": "9e31a071-d369-4bb7-914c-763ffb18f5c0",
   "metadata": {},
   "outputs": [
    {
     "data": {
      "text/plain": [
       "<Axes: >"
      ]
     },
     "execution_count": 48,
     "metadata": {},
     "output_type": "execute_result"
    },
    {
     "data": {
      "image/png": "[encoded data removed]",
      "text/plain": [
       "<Figure size 640x480 with 1 Axes>"
      ]
     },
     "metadata": {},
     "output_type": "display_data"
    }
   ],
   "source": [
    "sns.boxplot(df)"
   ]
  },
  {
   "cell_type": "markdown",
   "id": "7e0d89e1-c8dd-4d8a-b527-7ab8c7042981",
   "metadata": {},
   "source": [
    "## Feature Selection"
   ]
  },
  {
   "cell_type": "code",
   "execution_count": null,
   "id": "9c4166fa-5806-48b7-8b85-2516402d96fb",
   "metadata": {},
   "outputs": [],
   "source": []
  },
  {
   "cell_type": "code",
   "execution_count": 49,
   "id": "8b2114e9-5185-44df-9fd6-688dcdfc9113",
   "metadata": {},
   "outputs": [],
   "source": [
    "x = df.drop('Drug', axis=1)\n",
    "y = df['Drug']\n",
    "x_train, x_test, y_train, y_test = train_test_split(x,y, test_size = 0.3, random_state=1,stratify = y)"
   ]
  },
  {
   "cell_type": "code",
   "execution_count": 50,
   "id": "b60ea9ff-1dee-4b42-849d-47499019114b",
   "metadata": {},
   "outputs": [
    {
     "data": {
      "text/plain": [
       "0      DrugY\n",
       "1      drugC\n",
       "2      drugC\n",
       "3      drugX\n",
       "4      DrugY\n",
       "       ...  \n",
       "195    drugC\n",
       "196    drugC\n",
       "197    drugX\n",
       "198    drugX\n",
       "199    drugX\n",
       "Name: Drug, Length: 200, dtype: object"
      ]
     },
     "execution_count": 50,
     "metadata": {},
     "output_type": "execute_result"
    }
   ],
   "source": [
    "y"
   ]
  },
  {
   "cell_type": "code",
   "execution_count": 51,
   "id": "988f08f9-c4fe-41eb-a99d-63ef43910d0b",
   "metadata": {},
   "outputs": [
    {
     "data": {
      "text/html": [
       "<style>#sk-container-id-2 {color: black;}#sk-container-id-2 pre{padding: 0;}#sk-container-id-2 div.sk-toggleable {background-color: white;}#sk-container-id-2 label.sk-toggleable__label {cursor: pointer;display: block;width: 100%;margin-bottom: 0;padding: 0.3em;box-sizing: border-box;text-align: center;}#sk-container-id-2 label.sk-toggleable__label-arrow:before {content: \"▸\";float: left;margin-right: 0.25em;color: #696969;}#sk-container-id-2 label.sk-toggleable__label-arrow:hover:before {color: black;}#sk-container-id-2 div.sk-estimator:hover label.sk-toggleable__label-arrow:before {color: black;}#sk-container-id-2 div.sk-toggleable__content {max-height: 0;max-width: 0;overflow: hidden;text-align: left;background-color: #f0f8ff;}#sk-container-id-2 div.sk-toggleable__content pre {margin: 0.2em;color: black;border-radius: 0.25em;background-color: #f0f8ff;}#sk-container-id-2 input.sk-toggleable__control:checked~div.sk-toggleable__content {max-height: 200px;max-width: 100%;overflow: auto;}#sk-container-id-2 input.sk-toggleable__control:checked~label.sk-toggleable__label-arrow:before {content: \"▾\";}#sk-container-id-2 div.sk-estimator input.sk-toggleable__control:checked~label.sk-toggleable__label {background-color: #d4ebff;}#sk-container-id-2 div.sk-label input.sk-toggleable__control:checked~label.sk-toggleable__label {background-color: #d4ebff;}#sk-container-id-2 input.sk-hidden--visually {border: 0;clip: rect(1px 1px 1px 1px);clip: rect(1px, 1px, 1px, 1px);height: 1px;margin: -1px;overflow: hidden;padding: 0;position: absolute;width: 1px;}#sk-container-id-2 div.sk-estimator {font-family: monospace;background-color: #f0f8ff;border: 1px dotted black;border-radius: 0.25em;box-sizing: border-box;margin-bottom: 0.5em;}#sk-container-id-2 div.sk-estimator:hover {background-color: #d4ebff;}#sk-container-id-2 div.sk-parallel-item::after {content: \"\";width: 100%;border-bottom: 1px solid gray;flex-grow: 1;}#sk-container-id-2 div.sk-label:hover label.sk-toggleable__label {background-color: #d4ebff;}#sk-container-id-2 div.sk-serial::before {content: \"\";position: absolute;border-left: 1px solid gray;box-sizing: border-box;top: 0;bottom: 0;left: 50%;z-index: 0;}#sk-container-id-2 div.sk-serial {display: flex;flex-direction: column;align-items: center;background-color: white;padding-right: 0.2em;padding-left: 0.2em;position: relative;}#sk-container-id-2 div.sk-item {position: relative;z-index: 1;}#sk-container-id-2 div.sk-parallel {display: flex;align-items: stretch;justify-content: center;background-color: white;position: relative;}#sk-container-id-2 div.sk-item::before, #sk-container-id-2 div.sk-parallel-item::before {content: \"\";position: absolute;border-left: 1px solid gray;box-sizing: border-box;top: 0;bottom: 0;left: 50%;z-index: -1;}#sk-container-id-2 div.sk-parallel-item {display: flex;flex-direction: column;z-index: 1;position: relative;background-color: white;}#sk-container-id-2 div.sk-parallel-item:first-child::after {align-self: flex-end;width: 50%;}#sk-container-id-2 div.sk-parallel-item:last-child::after {align-self: flex-start;width: 50%;}#sk-container-id-2 div.sk-parallel-item:only-child::after {width: 0;}#sk-container-id-2 div.sk-dashed-wrapped {border: 1px dashed gray;margin: 0 0.4em 0.5em 0.4em;box-sizing: border-box;padding-bottom: 0.4em;background-color: white;}#sk-container-id-2 div.sk-label label {font-family: monospace;font-weight: bold;display: inline-block;line-height: 1.2em;}#sk-container-id-2 div.sk-label-container {text-align: center;}#sk-container-id-2 div.sk-container {/* jupyter's `normalize.less` sets `[hidden] { display: none; }` but bootstrap.min.css set `[hidden] { display: none !important; }` so we also need the `!important` here to be able to override the default hidden behavior on the sphinx rendered scikit-learn.org. See: https://github.com/scikit-learn/scikit-learn/issues/21755 */display: inline-block !important;position: relative;}#sk-container-id-2 div.sk-text-repr-fallback {display: none;}</style><div id=\"sk-container-id-2\" class=\"sk-top-container\"><div class=\"sk-text-repr-fallback\"><pre>LogisticRegression(multi_class=&#x27;ovr&#x27;)</pre><b>In a Jupyter environment, please rerun this cell to show the HTML representation or trust the notebook. <br />On GitHub, the HTML representation is unable to render, please try loading this page with nbviewer.org.</b></div><div class=\"sk-container\" hidden><div class=\"sk-item\"><div class=\"sk-estimator sk-toggleable\"><input class=\"sk-toggleable__control sk-hidden--visually\" id=\"sk-estimator-id-2\" type=\"checkbox\" checked><label for=\"sk-estimator-id-2\" class=\"sk-toggleable__label sk-toggleable__label-arrow\">LogisticRegression</label><div class=\"sk-toggleable__content\"><pre>LogisticRegression(multi_class=&#x27;ovr&#x27;)</pre></div></div></div></div></div>"
      ],
      "text/plain": [
       "LogisticRegression(multi_class='ovr')"
      ]
     },
     "execution_count": 51,
     "metadata": {},
     "output_type": "execute_result"
    }
   ],
   "source": [
    "log_reg = LogisticRegression(multi_class='ovr')\n",
    "log_reg.fit(x_train, y_train)"
   ]
  },
  {
   "cell_type": "markdown",
   "id": "5cb4be88-9a9b-4cb8-92f1-62eddfa8cc06",
   "metadata": {},
   "source": [
    "## Data Evaluation"
   ]
  },
  {
   "cell_type": "code",
   "execution_count": 52,
   "id": "5d47b68b-fc4a-432c-83c6-ca13dc56317b",
   "metadata": {},
   "outputs": [
    {
     "name": "stdout",
     "output_type": "stream",
     "text": [
      "Multilabel Confusion Matrix:\n",
      " [[[ 51  25]\n",
      "  [  4  60]]\n",
      "\n",
      " [[123   1]\n",
      "  [  6  10]]\n",
      "\n",
      " [[129   0]\n",
      "  [  4   7]]\n",
      "\n",
      " [[129   0]\n",
      "  [ 11   0]]\n",
      "\n",
      " [[ 96   6]\n",
      "  [  7  31]]]\n",
      "******************************\n",
      "Confusion Matrix:\n",
      " [[60  1  0  0  3]\n",
      " [ 6 10  0  0  0]\n",
      " [ 4  0  7  0  0]\n",
      " [ 8  0  0  0  3]\n",
      " [ 7  0  0  0 31]]\n",
      "******************************\n",
      "Classification Report :\n",
      "               precision    recall  f1-score   support\n",
      "\n",
      "       DrugY       0.71      0.94      0.81        64\n",
      "       drugA       0.91      0.62      0.74        16\n",
      "       drugB       1.00      0.64      0.78        11\n",
      "       drugC       0.00      0.00      0.00        11\n",
      "       drugX       0.84      0.82      0.83        38\n",
      "\n",
      "    accuracy                           0.77       140\n",
      "   macro avg       0.69      0.60      0.63       140\n",
      "weighted avg       0.73      0.77      0.74       140\n",
      "\n"
     ]
    }
   ],
   "source": [
    "# training data evaluation\n",
    "y_train_pred = log_reg.predict(x_train)\n",
    "\n",
    "multilabel_cnf_matrix = multilabel_confusion_matrix(y_train, y_train_pred)\n",
    "print(\"Multilabel Confusion Matrix:\\n\", multilabel_cnf_matrix)\n",
    "print(\"*\"*30)\n",
    "cnf_matrix = confusion_matrix(y_train, y_train_pred)\n",
    "print(\"Confusion Matrix:\\n\", cnf_matrix)\n",
    "print(\"*\"*30)\n",
    "\n",
    "clf_report = classification_report(y_train, y_train_pred)\n",
    "print(\"Classification Report :\\n\", clf_report)"
   ]
  },
  {
   "cell_type": "code",
   "execution_count": 53,
   "id": "65332499-de46-41aa-b2e8-71b81744c535",
   "metadata": {},
   "outputs": [
    {
     "name": "stdout",
     "output_type": "stream",
     "text": [
      "Multilabel Confusion Matrix:\n",
      " [[[18 15]\n",
      "  [ 2 25]]\n",
      "\n",
      " [[53  0]\n",
      "  [ 5  2]]\n",
      "\n",
      " [[54  1]\n",
      "  [ 3  2]]\n",
      "\n",
      " [[55  0]\n",
      "  [ 5  0]]\n",
      "\n",
      " [[43  1]\n",
      "  [ 2 14]]]\n",
      "******************************\n",
      "Confusion Matrix:\n",
      " [[25  0  1  0  1]\n",
      " [ 5  2  0  0  0]\n",
      " [ 3  0  2  0  0]\n",
      " [ 5  0  0  0  0]\n",
      " [ 2  0  0  0 14]]\n",
      "******************************\n",
      "Classification Report :\n",
      "               precision    recall  f1-score   support\n",
      "\n",
      "       DrugY       0.62      0.93      0.75        27\n",
      "       drugA       1.00      0.29      0.44         7\n",
      "       drugB       0.67      0.40      0.50         5\n",
      "       drugC       0.00      0.00      0.00         5\n",
      "       drugX       0.93      0.88      0.90        16\n",
      "\n",
      "    accuracy                           0.72        60\n",
      "   macro avg       0.64      0.50      0.52        60\n",
      "weighted avg       0.70      0.72      0.67        60\n",
      "\n"
     ]
    }
   ],
   "source": [
    "# testing data evaluation\n",
    "y_pred_test = log_reg.predict(x_test)\n",
    "\n",
    "multilabel_cnf_matrix = multilabel_confusion_matrix(y_test, y_pred_test)\n",
    "print(\"Multilabel Confusion Matrix:\\n\", multilabel_cnf_matrix)\n",
    "print(\"*\"*30)\n",
    "cnf_matrix = confusion_matrix(y_test, y_pred_test)\n",
    "print(\"Confusion Matrix:\\n\", cnf_matrix)\n",
    "print(\"*\"*30)\n",
    "\n",
    "clf_report = classification_report(y_test, y_pred_test)\n",
    "print(\"Classification Report :\\n\", clf_report)"
   ]
  },
  {
   "cell_type": "code",
   "execution_count": 54,
   "id": "e441741a-84f3-4ab6-89c5-d5dcd27c349a",
   "metadata": {},
   "outputs": [],
   "source": [
    "y_train_prob = log_reg.predict_proba(x_train)"
   ]
  },
  {
   "cell_type": "code",
   "execution_count": 55,
   "id": "01a76d0d-a8b6-4c3c-a834-f6abd20c3b30",
   "metadata": {},
   "outputs": [
    {
     "data": {
      "text/plain": [
       "array([[3.63868683e-01, 1.10788465e-01, 4.07132488e-01, 2.22619340e-02,\n",
       "        9.59484302e-02],\n",
       "       [6.89228933e-01, 2.36243914e-01, 6.80558709e-03, 1.87579277e-02,\n",
       "        4.89636377e-02],\n",
       "       [5.06146430e-01, 3.42221001e-01, 1.62883808e-02, 2.91310480e-02,\n",
       "        1.06213140e-01],\n",
       "       [2.67142778e-01, 4.73302210e-01, 3.55970445e-02, 1.95439252e-01,\n",
       "        2.85187160e-02],\n",
       "       [4.74960834e-01, 3.41441310e-02, 2.86421715e-02, 3.59600762e-02,\n",
       "        4.26292787e-01],\n",
       "       [5.05694503e-01, 1.14231505e-01, 2.80577524e-01, 2.10062975e-02,\n",
       "        7.84901707e-02],\n",
       "       [5.13608294e-01, 3.12966407e-03, 2.26969429e-04, 8.23213225e-02,\n",
       "        4.00713750e-01],\n",
       "       [2.42732629e-01, 3.34281698e-01, 2.41887917e-01, 4.64510080e-02,\n",
       "        1.34646748e-01],\n",
       "       [3.42779696e-01, 4.72769268e-01, 2.99174769e-02, 4.51047284e-02,\n",
       "        1.09428831e-01],\n",
       "       [4.43883353e-01, 2.74925851e-02, 9.99150835e-03, 2.54641226e-02,\n",
       "        4.93168431e-01],\n",
       "       [7.04762605e-01, 2.05751480e-01, 6.29672811e-03, 7.50381832e-02,\n",
       "        8.15100360e-03],\n",
       "       [4.89186339e-01, 2.17761945e-03, 5.54589452e-03, 1.13315532e-01,\n",
       "        3.89774615e-01],\n",
       "       [7.09535332e-01, 1.53627655e-02, 5.95156376e-03, 1.58540118e-02,\n",
       "        2.53296327e-01],\n",
       "       [6.46046963e-01, 2.60258889e-01, 3.16085930e-03, 8.10072834e-02,\n",
       "        9.52600492e-03],\n",
       "       [4.80932654e-01, 1.32768558e-03, 3.90503788e-03, 7.86840438e-02,\n",
       "        4.35150579e-01],\n",
       "       [1.13051865e-01, 3.51576424e-03, 6.54091976e-03, 3.44135589e-02,\n",
       "        8.42477892e-01],\n",
       "       [2.15322928e-01, 1.50742497e-02, 1.28541620e-01, 2.66157655e-02,\n",
       "        6.14445437e-01],\n",
       "       [5.34414387e-01, 1.60097545e-01, 1.86016566e-01, 1.09610854e-01,\n",
       "        9.86064808e-03],\n",
       "       [5.10829208e-01, 2.99053479e-01, 8.21289073e-02, 3.52401342e-02,\n",
       "        7.27482715e-02],\n",
       "       [1.76360061e-01, 7.60405974e-03, 2.11076977e-04, 1.35643211e-01,\n",
       "        6.80181592e-01],\n",
       "       [7.10590807e-01, 7.87957646e-02, 1.38997986e-01, 6.40980505e-02,\n",
       "        7.51739192e-03],\n",
       "       [6.98022497e-01, 2.37070867e-01, 4.41585598e-03, 1.75599302e-02,\n",
       "        4.29308504e-02],\n",
       "       [7.81378887e-01, 1.03899190e-01, 4.46271006e-02, 6.37128183e-02,\n",
       "        6.38200359e-03],\n",
       "       [6.45812518e-01, 8.64192275e-02, 1.86115881e-01, 7.18616454e-02,\n",
       "        9.79072805e-03],\n",
       "       [5.39056724e-01, 2.69544179e-04, 1.33400255e-02, 7.41414047e-03,\n",
       "        4.39919566e-01],\n",
       "       [2.10203010e-01, 2.28548759e-01, 7.25873233e-04, 2.76272034e-01,\n",
       "        2.84250324e-01],\n",
       "       [4.39166921e-01, 4.61523225e-01, 3.11986545e-03, 3.34349167e-02,\n",
       "        6.27550725e-02],\n",
       "       [5.78862748e-01, 6.77643514e-03, 7.66651273e-05, 1.10159659e-01,\n",
       "        3.04124493e-01],\n",
       "       [2.00688669e-01, 8.45451948e-02, 6.27672491e-01, 2.29744464e-02,\n",
       "        6.41191990e-02],\n",
       "       [2.51090601e-01, 5.25340829e-03, 2.16341242e-03, 1.60875125e-01,\n",
       "        5.80617453e-01],\n",
       "       [3.78137873e-01, 2.07223048e-01, 2.85772542e-04, 2.27719084e-01,\n",
       "        1.86634223e-01],\n",
       "       [5.40750362e-01, 3.54255798e-01, 3.94663348e-03, 2.42556134e-02,\n",
       "        7.67915925e-02],\n",
       "       [2.43174327e-01, 8.01349242e-02, 8.45595995e-03, 5.05107763e-02,\n",
       "        6.17724013e-01],\n",
       "       [7.47040752e-01, 2.89039064e-02, 1.75996448e-02, 1.30983903e-01,\n",
       "        7.54717934e-02],\n",
       "       [7.01531424e-01, 1.67318840e-01, 3.50539961e-02, 8.50305109e-02,\n",
       "        1.10652294e-02],\n",
       "       [4.70022375e-01, 5.12117367e-02, 8.67497463e-03, 3.80941368e-02,\n",
       "        4.31996776e-01],\n",
       "       [5.43055151e-01, 2.22516494e-01, 9.84802912e-02, 1.24451436e-01,\n",
       "        1.14966273e-02],\n",
       "       [5.58790290e-01, 8.32196121e-03, 4.82850654e-05, 1.15147199e-01,\n",
       "        3.17692264e-01],\n",
       "       [3.99645233e-01, 5.56566017e-03, 9.94731754e-05, 1.01288256e-01,\n",
       "        4.93401378e-01],\n",
       "       [5.62334548e-01, 2.29700000e-01, 6.74946991e-02, 1.19348293e-01,\n",
       "        2.11224602e-02],\n",
       "       [3.87209280e-01, 4.51960989e-01, 3.32361482e-03, 1.31730990e-01,\n",
       "        2.57751260e-02],\n",
       "       [6.19563807e-01, 2.43074530e-01, 2.33694545e-02, 1.06240707e-01,\n",
       "        7.75150257e-03],\n",
       "       [1.78558495e-01, 3.66307216e-02, 2.65482256e-01, 2.36411808e-01,\n",
       "        2.82916719e-01],\n",
       "       [3.01244976e-01, 1.52099529e-02, 5.92450946e-05, 1.66231264e-01,\n",
       "        5.17254561e-01],\n",
       "       [1.88697951e-01, 8.71551697e-03, 1.28021079e-04, 1.35710292e-01,\n",
       "        6.66748219e-01],\n",
       "       [1.99720514e-01, 1.86123218e-01, 4.77489297e-01, 3.45200325e-02,\n",
       "        1.02146939e-01],\n",
       "       [5.46588338e-01, 6.59604824e-02, 1.28595261e-02, 2.09836209e-01,\n",
       "        1.64755444e-01],\n",
       "       [6.68052778e-01, 5.93426679e-02, 2.08743752e-01, 5.71652064e-02,\n",
       "        6.69559589e-03],\n",
       "       [3.54741099e-01, 2.09368082e-03, 2.32608434e-03, 2.08420163e-02,\n",
       "        6.19997120e-01],\n",
       "       [5.90721353e-01, 2.44056157e-02, 3.58794423e-01, 7.86801190e-03,\n",
       "        1.82105967e-02],\n",
       "       [3.66133215e-01, 4.13839868e-02, 3.22038967e-02, 4.15559086e-02,\n",
       "        5.18722993e-01],\n",
       "       [5.20720995e-01, 3.57517627e-01, 2.35268768e-02, 3.37004123e-02,\n",
       "        6.45340888e-02],\n",
       "       [6.51284039e-01, 6.72905607e-02, 3.41495358e-03, 1.68627091e-01,\n",
       "        1.09383356e-01],\n",
       "       [7.53744666e-01, 1.42476838e-01, 4.09891613e-02, 1.72836015e-02,\n",
       "        4.55057331e-02],\n",
       "       [4.17936996e-01, 3.20539626e-02, 1.57104666e-01, 2.05121989e-01,\n",
       "        1.87782386e-01],\n",
       "       [6.46779123e-01, 2.07401711e-01, 4.66892719e-02, 2.33661960e-02,\n",
       "        7.57636981e-02],\n",
       "       [4.21711835e-01, 1.84080257e-01, 2.52448193e-01, 1.27743223e-01,\n",
       "        1.40164923e-02],\n",
       "       [2.81208348e-01, 1.10753193e-01, 5.21009172e-01, 2.48063469e-02,\n",
       "        6.22229406e-02],\n",
       "       [6.04754884e-01, 1.93128652e-02, 1.29078588e-01, 1.43775793e-01,\n",
       "        1.03077869e-01],\n",
       "       [6.16379325e-01, 2.47079482e-02, 3.84976686e-02, 1.39669971e-01,\n",
       "        1.80745087e-01],\n",
       "       [6.16752740e-01, 1.70911284e-02, 5.72771666e-02, 2.57627231e-02,\n",
       "        2.83116242e-01],\n",
       "       [4.87518503e-01, 1.42098747e-03, 3.03856231e-03, 7.86280970e-02,\n",
       "        4.29393850e-01],\n",
       "       [1.78342888e-01, 4.27799849e-01, 1.39673432e-01, 2.15780797e-01,\n",
       "        3.84030325e-02],\n",
       "       [5.40487407e-01, 5.90617646e-03, 1.69174394e-04, 1.15294713e-01,\n",
       "        3.38142529e-01],\n",
       "       [4.97141633e-01, 3.13478154e-02, 4.50776342e-03, 2.41387574e-02,\n",
       "        4.42864031e-01],\n",
       "       [2.21489211e-01, 1.03529744e-02, 5.93946675e-05, 1.33048372e-01,\n",
       "        6.35050048e-01],\n",
       "       [6.04968750e-01, 7.66841440e-03, 3.99291015e-05, 1.06871110e-01,\n",
       "        2.80451796e-01],\n",
       "       [2.97289077e-01, 7.95824360e-03, 1.02259214e-04, 2.86502427e-02,\n",
       "        6.66000177e-01],\n",
       "       [3.11369761e-01, 7.88089940e-03, 6.81063190e-05, 1.16674654e-01,\n",
       "        5.64006579e-01],\n",
       "       [6.04394697e-01, 2.28965252e-03, 1.78169475e-03, 9.69554571e-02,\n",
       "        2.94578499e-01],\n",
       "       [4.69586275e-01, 3.40618934e-01, 2.55787598e-02, 1.37384420e-01,\n",
       "        2.68316100e-02],\n",
       "       [2.25984672e-01, 1.62883806e-03, 2.53889325e-03, 1.76804120e-02,\n",
       "        7.52167185e-01],\n",
       "       [4.36703989e-01, 7.66993672e-02, 1.91347476e-02, 2.46748533e-01,\n",
       "        2.20713363e-01],\n",
       "       [5.24237183e-01, 4.61434374e-04, 3.76324212e-03, 8.40989401e-03,\n",
       "        4.63128246e-01],\n",
       "       [2.08592393e-01, 6.22459076e-03, 8.36870586e-05, 2.32653514e-02,\n",
       "        7.61833977e-01],\n",
       "       [6.58320359e-01, 1.64269256e-02, 8.31621469e-03, 1.75654525e-02,\n",
       "        2.99371048e-01],\n",
       "       [8.36468125e-01, 9.43743506e-03, 2.66216015e-02, 6.96958774e-02,\n",
       "        5.77769615e-02],\n",
       "       [3.64144196e-01, 2.51686937e-01, 2.53900940e-01, 3.75518403e-02,\n",
       "        9.27160868e-02],\n",
       "       [1.57051649e-01, 5.95069454e-01, 5.20020741e-03, 2.06806096e-01,\n",
       "        3.58725935e-02],\n",
       "       [4.07661353e-01, 8.64922405e-02, 1.54369418e-02, 2.55927184e-01,\n",
       "        2.34482280e-01],\n",
       "       [5.15880194e-01, 6.68677446e-03, 1.36734273e-01, 1.60071186e-02,\n",
       "        3.24691641e-01],\n",
       "       [2.64725828e-01, 5.12635172e-01, 3.68897555e-02, 5.03045561e-02,\n",
       "        1.35444688e-01],\n",
       "       [5.25998541e-01, 1.80311655e-03, 1.08977850e-03, 7.65554586e-02,\n",
       "        3.94553105e-01],\n",
       "       [3.42858787e-01, 1.37822396e-02, 2.30759880e-01, 2.86633375e-02,\n",
       "        3.83935756e-01],\n",
       "       [2.39969997e-01, 5.65576611e-01, 1.34092413e-02, 4.94996176e-02,\n",
       "        1.31544533e-01],\n",
       "       [1.64913132e-01, 3.78740737e-03, 1.00045065e-02, 1.68284199e-01,\n",
       "        6.53010755e-01],\n",
       "       [6.02217027e-01, 1.53177882e-02, 1.63336057e-01, 1.29170586e-01,\n",
       "        8.99585412e-02],\n",
       "       [2.10913772e-01, 2.01777267e-03, 9.73326382e-03, 2.60342574e-02,\n",
       "        7.51300934e-01],\n",
       "       [2.91015559e-01, 5.14027144e-02, 5.78248861e-01, 1.49524259e-02,\n",
       "        6.43804398e-02],\n",
       "       [4.35937882e-01, 1.16194825e-01, 3.39004610e-01, 9.91069036e-02,\n",
       "        9.75577866e-03],\n",
       "       [4.14769728e-01, 6.10083977e-02, 8.77917227e-04, 2.81599494e-02,\n",
       "        4.95184008e-01],\n",
       "       [5.61321857e-01, 4.75587413e-02, 3.61102976e-01, 1.25951695e-02,\n",
       "        1.74212557e-02],\n",
       "       [2.11725326e-01, 1.33215556e-02, 5.85230381e-05, 3.62066362e-02,\n",
       "        7.38687959e-01],\n",
       "       [6.74695561e-01, 2.27943471e-01, 1.58323730e-02, 2.09224391e-02,\n",
       "        6.06061553e-02],\n",
       "       [6.30497603e-01, 6.98246331e-02, 9.11692505e-04, 1.40500872e-01,\n",
       "        1.58265200e-01],\n",
       "       [2.89556764e-01, 1.61971960e-02, 5.31057932e-05, 1.69115435e-01,\n",
       "        5.25077498e-01],\n",
       "       [2.50236744e-01, 8.50420339e-02, 6.56578881e-03, 5.03426505e-02,\n",
       "        6.07812782e-01],\n",
       "       [4.35696137e-01, 3.44975805e-01, 4.69507403e-02, 1.55187346e-01,\n",
       "        1.71899720e-02],\n",
       "       [1.11606008e-01, 5.30109199e-03, 2.27132530e-03, 3.73008880e-02,\n",
       "        8.43520686e-01],\n",
       "       [2.14226881e-01, 4.79056268e-03, 3.64649565e-03, 1.65204856e-01,\n",
       "        6.12131205e-01],\n",
       "       [5.51094784e-01, 3.93109242e-03, 8.09210652e-05, 7.96947759e-02,\n",
       "        3.65198427e-01],\n",
       "       [5.45142871e-01, 8.21801791e-04, 9.34913114e-03, 6.79159003e-02,\n",
       "        3.76770296e-01],\n",
       "       [4.80493440e-01, 3.53633037e-02, 4.28716583e-01, 4.85777382e-02,\n",
       "        6.84893469e-03],\n",
       "       [8.71151447e-01, 7.34430240e-03, 2.28034525e-02, 5.79569142e-02,\n",
       "        4.07438839e-02],\n",
       "       [1.92808360e-01, 1.53416401e-03, 2.24564104e-02, 2.52151669e-02,\n",
       "        7.57985899e-01],\n",
       "       [6.90982193e-01, 5.26235910e-02, 5.22109361e-03, 1.55202346e-01,\n",
       "        9.59707766e-02],\n",
       "       [5.19413809e-01, 1.08293016e-01, 2.67073811e-01, 8.97294728e-02,\n",
       "        1.54898914e-02],\n",
       "       [7.67725541e-01, 1.11865351e-02, 7.57773772e-03, 1.34596852e-02,\n",
       "        2.00050501e-01],\n",
       "       [6.74145481e-01, 2.47859021e-01, 1.48551013e-03, 6.97439585e-02,\n",
       "        6.76602980e-03],\n",
       "       [6.69141089e-01, 2.38358934e-01, 1.22514636e-02, 2.07740033e-02,\n",
       "        5.94745101e-02],\n",
       "       [1.64762990e-01, 2.35517626e-01, 8.47810728e-04, 2.85519706e-01,\n",
       "        3.13351868e-01],\n",
       "       [4.85339997e-01, 1.04281869e-03, 5.97976514e-04, 1.03262935e-02,\n",
       "        5.02692914e-01],\n",
       "       [5.47165894e-01, 4.73090174e-02, 6.14698748e-03, 3.40388616e-02,\n",
       "        3.65339240e-01],\n",
       "       [6.16645154e-01, 3.22933046e-02, 1.15603882e-02, 2.95357462e-02,\n",
       "        3.09965407e-01],\n",
       "       [4.24871676e-01, 1.17811280e-02, 5.11072171e-05, 1.41256539e-01,\n",
       "        4.22039550e-01],\n",
       "       [3.63027557e-01, 6.87346165e-02, 6.72415015e-03, 4.41826861e-02,\n",
       "        5.17330990e-01],\n",
       "       [3.28599180e-01, 9.49561763e-03, 3.15505517e-01, 2.39223582e-02,\n",
       "        3.22477327e-01],\n",
       "       [6.78579741e-01, 2.53131192e-01, 4.01522286e-03, 1.82460155e-02,\n",
       "        4.60278280e-02],\n",
       "       [2.41153783e-01, 3.69250574e-03, 6.49470538e-03, 1.56722306e-01,\n",
       "        5.91936699e-01],\n",
       "       [1.20521245e-01, 2.55107472e-03, 2.47765258e-03, 2.33783989e-02,\n",
       "        8.51071629e-01],\n",
       "       [4.36625651e-01, 3.31570324e-01, 1.01594479e-01, 3.97077085e-02,\n",
       "        9.05018369e-02],\n",
       "       [6.47247249e-01, 2.59202319e-01, 9.77269563e-03, 2.14096330e-02,\n",
       "        6.23681038e-02],\n",
       "       [5.16539614e-01, 2.62048598e-01, 7.37518125e-02, 3.02177113e-02,\n",
       "        1.17442264e-01],\n",
       "       [5.98486498e-01, 9.27753385e-03, 1.47180836e-01, 2.04139945e-02,\n",
       "        2.24641138e-01],\n",
       "       [3.68898881e-01, 4.56633753e-01, 2.90215070e-02, 4.34399597e-02,\n",
       "        1.02005900e-01],\n",
       "       [2.36234372e-01, 1.39186016e-01, 4.85142920e-01, 1.22286807e-01,\n",
       "        1.71498853e-02],\n",
       "       [6.23521908e-01, 3.85672962e-02, 3.33391825e-02, 1.76371404e-01,\n",
       "        1.28200210e-01],\n",
       "       [1.81626903e-01, 8.55369074e-04, 1.99908453e-02, 1.66651002e-02,\n",
       "        7.80861783e-01],\n",
       "       [4.62933164e-01, 8.33504760e-02, 2.52527797e-03, 1.88189766e-01,\n",
       "        2.63001316e-01],\n",
       "       [3.12829359e-01, 6.15866248e-03, 1.41261791e-04, 1.13665826e-01,\n",
       "        5.67204891e-01],\n",
       "       [3.47830025e-01, 4.62205674e-01, 8.73754577e-03, 1.61967725e-01,\n",
       "        1.92590305e-02],\n",
       "       [7.62108961e-01, 1.78605447e-02, 1.41975919e-02, 2.07613697e-02,\n",
       "        1.85071533e-01],\n",
       "       [4.23520681e-01, 8.63851062e-04, 1.97918353e-03, 1.12355900e-02,\n",
       "        5.62400694e-01],\n",
       "       [7.14586824e-01, 4.17360516e-03, 9.12796024e-02, 1.09344304e-02,\n",
       "        1.79025538e-01],\n",
       "       [6.38950384e-01, 3.03827197e-01, 4.28619124e-03, 2.27595537e-02,\n",
       "        3.01766743e-02],\n",
       "       [6.09269445e-01, 3.22371039e-01, 5.99030749e-03, 2.52148223e-02,\n",
       "        3.71543855e-02],\n",
       "       [4.50101197e-01, 2.56765744e-03, 4.57657634e-03, 1.20996279e-01,\n",
       "        4.21758290e-01],\n",
       "       [3.58676491e-01, 1.04225137e-01, 4.28409034e-01, 9.80076139e-02,\n",
       "        1.06817237e-02],\n",
       "       [1.77118507e-01, 2.69697509e-02, 2.55205897e-05, 1.97294738e-01,\n",
       "        5.98591483e-01],\n",
       "       [7.42542497e-01, 4.64112297e-02, 9.25766628e-04, 1.08037460e-01,\n",
       "        1.02083046e-01]])"
      ]
     },
     "execution_count": 55,
     "metadata": {},
     "output_type": "execute_result"
    }
   ],
   "source": [
    "y_train_prob"
   ]
  },
  {
   "cell_type": "code",
   "execution_count": 56,
   "id": "0b28bada-5f95-45dd-9b90-a1e6aaba1de6",
   "metadata": {},
   "outputs": [
    {
     "data": {
      "text/plain": [
       "array(['drugB', 'DrugY', 'DrugY', 'drugA', 'DrugY', 'DrugY', 'DrugY',\n",
       "       'drugA', 'drugA', 'drugX', 'DrugY', 'DrugY', 'DrugY', 'DrugY',\n",
       "       'DrugY', 'drugX', 'drugX', 'DrugY', 'DrugY', 'drugX', 'DrugY',\n",
       "       'DrugY', 'DrugY', 'DrugY', 'DrugY', 'drugX', 'drugA', 'DrugY',\n",
       "       'drugB', 'drugX', 'DrugY', 'DrugY', 'drugX', 'DrugY', 'DrugY',\n",
       "       'DrugY', 'DrugY', 'DrugY', 'drugX', 'DrugY', 'drugA', 'DrugY',\n",
       "       'drugX', 'drugX', 'drugX', 'drugB', 'DrugY', 'DrugY', 'drugX',\n",
       "       'DrugY', 'drugX', 'DrugY', 'DrugY', 'DrugY', 'DrugY', 'DrugY',\n",
       "       'DrugY', 'drugB', 'DrugY', 'DrugY', 'DrugY', 'DrugY', 'drugA',\n",
       "       'DrugY', 'DrugY', 'drugX', 'DrugY', 'drugX', 'drugX', 'DrugY',\n",
       "       'DrugY', 'drugX', 'DrugY', 'DrugY', 'drugX', 'DrugY', 'DrugY',\n",
       "       'DrugY', 'drugA', 'DrugY', 'DrugY', 'drugA', 'DrugY', 'drugX',\n",
       "       'drugA', 'drugX', 'DrugY', 'drugX', 'drugB', 'DrugY', 'drugX',\n",
       "       'DrugY', 'drugX', 'DrugY', 'DrugY', 'drugX', 'drugX', 'DrugY',\n",
       "       'drugX', 'drugX', 'DrugY', 'DrugY', 'DrugY', 'DrugY', 'drugX',\n",
       "       'DrugY', 'DrugY', 'DrugY', 'DrugY', 'DrugY', 'drugX', 'drugX',\n",
       "       'DrugY', 'DrugY', 'DrugY', 'drugX', 'DrugY', 'DrugY', 'drugX',\n",
       "       'drugX', 'DrugY', 'DrugY', 'DrugY', 'DrugY', 'drugA', 'drugB',\n",
       "       'DrugY', 'drugX', 'DrugY', 'drugX', 'drugA', 'DrugY', 'drugX',\n",
       "       'DrugY', 'DrugY', 'DrugY', 'DrugY', 'drugB', 'drugX', 'DrugY'],\n",
       "      dtype=object)"
      ]
     },
     "execution_count": 56,
     "metadata": {},
     "output_type": "execute_result"
    }
   ],
   "source": [
    "log_reg.predict(x_train)"
   ]
  },
  {
   "cell_type": "code",
   "execution_count": 57,
   "id": "9a53da81-380e-4c27-b774-dea817a3c399",
   "metadata": {},
   "outputs": [],
   "source": [
    "import pickle"
   ]
  },
  {
   "cell_type": "code",
   "execution_count": 58,
   "id": "6a4fe494-78b8-4a1e-aae8-7c544b865b90",
   "metadata": {},
   "outputs": [],
   "source": [
    "with open('drug_log_regre.pkl', 'wb') as f:\n",
    "    pickle.dump(log_reg,f)"
   ]
  },
  {
   "cell_type": "code",
   "execution_count": 59,
   "id": "77cf00ef-ea2f-4254-b16e-73578f88fb8e",
   "metadata": {},
   "outputs": [],
   "source": [
    "import json"
   ]
  },
  {
   "cell_type": "code",
   "execution_count": 60,
   "id": "136fb57c-4561-49c3-b759-d714faca922f",
   "metadata": {},
   "outputs": [],
   "source": [
    "column_data = {\n",
    "                \"Sex\": {'M':1, 'F':0},\n",
    "                \"BP\" : {'HIGH':2, 'LOW':1, 'NORMAL':0},\n",
    "                \"Cholesterol\" : {'HIGH':1, 'NORMAL':0}\n",
    "                #\"Drug\" : {'DrugY':5, 'drugX':4, 'drugA':1,'drugC':3, 'drugB':2},\n",
    "                }\n",
    "with open(\"column_data.json\", 'w') as f:\n",
    "    json.dump(column_data,f)"
   ]
  },
  {
   "cell_type": "code",
   "execution_count": null,
   "id": "c749a34c-ae75-413c-9821-e6c620dd5c22",
   "metadata": {},
   "outputs": [],
   "source": []
  },
  {
   "cell_type": "code",
   "execution_count": null,
   "id": "f19a4791-8bbc-446d-bf59-313f036f23b3",
   "metadata": {},
   "outputs": [],
   "source": []
  },
  {
   "cell_type": "code",
   "execution_count": null,
   "id": "96671213-a41c-4a9f-8c8c-5f2d2f7fca60",
   "metadata": {},
   "outputs": [],
   "source": []
  }
 ],
 "metadata": {
  "kernelspec": {
   "display_name": "Python 3 (ipykernel)",
   "language": "python",
   "name": "python3"
  },
  "language_info": {
   "codemirror_mode": {
    "name": "ipython",
    "version": 3
   },
   "file_extension": ".py",
   "mimetype": "text/x-python",
   "name": "python",
   "nbconvert_exporter": "python",
   "pygments_lexer": "ipython3",
   "version": "3.11.5"
  }
 },
 "nbformat": 4,
 "nbformat_minor": 5
}
