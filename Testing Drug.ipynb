{
 "cells": [
  {
   "cell_type": "code",
   "execution_count": 6,
   "id": "bbcf5b6a-5dca-42d4-ac8b-48f4f3883a3b",
   "metadata": {},
   "outputs": [],
   "source": [
    "import numpy as np\n",
    "import pickle\n",
    "import json\n",
    "import json\n",
    "import warnings\n",
    "warnings.filterwarnings('ignore')"
   ]
  },
  {
   "cell_type": "markdown",
   "id": "d4599802-51b1-49af-a0cc-ecd2fd0bd415",
   "metadata": {},
   "source": [
    "#### Load Model¶"
   ]
  },
  {
   "cell_type": "code",
   "execution_count": 9,
   "id": "629cbac5-51a9-4638-815f-a03df61b3120",
   "metadata": {},
   "outputs": [],
   "source": [
    "with open('drug_log_regre.pkl', 'rb') as f:\n",
    "    model = pickle.load(f)\n",
    "\n",
    "\n",
    "\n",
    "with open(\"column_data.json\", 'r') as f:\n",
    "    col_data = json.load(f)\n"
   ]
  },
  {
   "cell_type": "code",
   "execution_count": 10,
   "id": "99d99853-58dd-43ac-8d49-d70c2a87b879",
   "metadata": {},
   "outputs": [],
   "source": [
    "col_names = model.feature_names_in_"
   ]
  },
  {
   "cell_type": "markdown",
   "id": "db406821-23ca-46af-abd5-cc1b8857fd33",
   "metadata": {},
   "source": [
    "#### User Data"
   ]
  },
  {
   "cell_type": "code",
   "execution_count": 11,
   "id": "33b5d6ec-9cdc-4d78-83a4-b9cc32baba5b",
   "metadata": {},
   "outputs": [
    {
     "name": "stdout",
     "output_type": "stream",
     "text": [
      "predicted_Drug : DrugY\n"
     ]
    }
   ],
   "source": [
    "Age =23\n",
    "Sex = 'F'\n",
    "BP  ='HIGH'\n",
    "Cholesterol ='HIGH'\n",
    "Na_to_K =25.355\n",
    "\n",
    "\n",
    "Sex = col_data['Sex'][Sex]\n",
    "BP = col_data['BP'][BP]\n",
    "Cholesterol = col_data['Cholesterol'][Cholesterol]\n",
    "\n",
    "\n",
    "test_array = np.zeros((1,model.n_features_in_))\n",
    "test_array[0,0] = Age\n",
    "test_array[0,1] = Sex\n",
    "test_array[0,2] = BP\n",
    "test_array[0,3] = Cholesterol\n",
    "test_array[0,4] = Na_to_K \n",
    "\n",
    "\n",
    "predicted_drug = model.predict(test_array)[0]\n",
    "print(\"predicted_Drug :\",predicted_drug)"
   ]
  },
  {
   "cell_type": "code",
   "execution_count": null,
   "id": "ea9e40c4-070d-43b4-bfa6-fc0b389a0fd1",
   "metadata": {},
   "outputs": [],
   "source": []
  },
  {
   "cell_type": "code",
   "execution_count": null,
   "id": "02782c25-17a5-482b-a74f-34d0c9162d5f",
   "metadata": {},
   "outputs": [],
   "source": []
  },
  {
   "cell_type": "code",
   "execution_count": null,
   "id": "b4caaa79-2961-4bb4-8775-2c8b260fc503",
   "metadata": {},
   "outputs": [],
   "source": []
  }
 ],
 "metadata": {
  "kernelspec": {
   "display_name": "Python 3 (ipykernel)",
   "language": "python",
   "name": "python3"
  },
  "language_info": {
   "codemirror_mode": {
    "name": "ipython",
    "version": 3
   },
   "file_extension": ".py",
   "mimetype": "text/x-python",
   "name": "python",
   "nbconvert_exporter": "python",
   "pygments_lexer": "ipython3",
   "version": "3.11.5"
  }
 },
 "nbformat": 4,
 "nbformat_minor": 5
}
